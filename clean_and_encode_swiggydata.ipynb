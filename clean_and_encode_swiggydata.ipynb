{
 "cells": [
  {
   "cell_type": "code",
   "execution_count": 48,
   "id": "f14f01b8-9e61-4ce8-a35b-7669f215ca66",
   "metadata": {},
   "outputs": [],
   "source": [
    "# import libraries\n",
    "import pandas as pd"
   ]
  },
  {
   "cell_type": "code",
   "execution_count": 49,
   "id": "262d4aed-12b8-44a1-9ea6-c25d4af7e635",
   "metadata": {},
   "outputs": [],
   "source": [
    "data_df = pd.read_csv(r\"data\\swiggy.csv\")"
   ]
  },
  {
   "cell_type": "code",
   "execution_count": 50,
   "id": "b089a36d-19ac-4850-ac2d-cb3fc66916b7",
   "metadata": {
    "scrolled": true
   },
   "outputs": [
    {
     "data": {
      "text/html": [
       "<div>\n",
       "<style scoped>\n",
       "    .dataframe tbody tr th:only-of-type {\n",
       "        vertical-align: middle;\n",
       "    }\n",
       "\n",
       "    .dataframe tbody tr th {\n",
       "        vertical-align: top;\n",
       "    }\n",
       "\n",
       "    .dataframe thead th {\n",
       "        text-align: right;\n",
       "    }\n",
       "</style>\n",
       "<table border=\"1\" class=\"dataframe\">\n",
       "  <thead>\n",
       "    <tr style=\"text-align: right;\">\n",
       "      <th></th>\n",
       "      <th>id</th>\n",
       "      <th>name</th>\n",
       "      <th>city</th>\n",
       "      <th>rating</th>\n",
       "      <th>rating_count</th>\n",
       "      <th>cost</th>\n",
       "      <th>cuisine</th>\n",
       "      <th>lic_no</th>\n",
       "      <th>link</th>\n",
       "      <th>address</th>\n",
       "      <th>menu</th>\n",
       "    </tr>\n",
       "  </thead>\n",
       "  <tbody>\n",
       "    <tr>\n",
       "      <th>0</th>\n",
       "      <td>567335</td>\n",
       "      <td>AB FOODS POINT</td>\n",
       "      <td>Abohar</td>\n",
       "      <td>--</td>\n",
       "      <td>Too Few Ratings</td>\n",
       "      <td>₹ 200</td>\n",
       "      <td>Beverages,Pizzas</td>\n",
       "      <td>22122652000138</td>\n",
       "      <td>https://www.swiggy.com/restaurants/ab-foods-po...</td>\n",
       "      <td>AB FOODS POINT, NEAR RISHI NARANG DENTAL CLINI...</td>\n",
       "      <td>Menu/567335.json</td>\n",
       "    </tr>\n",
       "    <tr>\n",
       "      <th>1</th>\n",
       "      <td>531342</td>\n",
       "      <td>Janta Sweet House</td>\n",
       "      <td>Abohar</td>\n",
       "      <td>4.4</td>\n",
       "      <td>50+ ratings</td>\n",
       "      <td>₹ 200</td>\n",
       "      <td>Sweets,Bakery</td>\n",
       "      <td>12117201000112</td>\n",
       "      <td>https://www.swiggy.com/restaurants/janta-sweet...</td>\n",
       "      <td>Janta Sweet House, Bazar No.9, Circullar Road,...</td>\n",
       "      <td>Menu/531342.json</td>\n",
       "    </tr>\n",
       "    <tr>\n",
       "      <th>2</th>\n",
       "      <td>158203</td>\n",
       "      <td>theka coffee desi</td>\n",
       "      <td>Abohar</td>\n",
       "      <td>3.8</td>\n",
       "      <td>100+ ratings</td>\n",
       "      <td>₹ 100</td>\n",
       "      <td>Beverages</td>\n",
       "      <td>22121652000190</td>\n",
       "      <td>https://www.swiggy.com/restaurants/theka-coffe...</td>\n",
       "      <td>theka coffee desi, sahtiya sadan road city</td>\n",
       "      <td>Menu/158203.json</td>\n",
       "    </tr>\n",
       "    <tr>\n",
       "      <th>3</th>\n",
       "      <td>187912</td>\n",
       "      <td>Singh Hut</td>\n",
       "      <td>Abohar</td>\n",
       "      <td>3.7</td>\n",
       "      <td>20+ ratings</td>\n",
       "      <td>₹ 250</td>\n",
       "      <td>Fast Food,Indian</td>\n",
       "      <td>22119652000167</td>\n",
       "      <td>https://www.swiggy.com/restaurants/singh-hut-n...</td>\n",
       "      <td>Singh Hut, CIRCULAR ROAD NEAR NEHRU PARK ABOHAR</td>\n",
       "      <td>Menu/187912.json</td>\n",
       "    </tr>\n",
       "    <tr>\n",
       "      <th>4</th>\n",
       "      <td>543530</td>\n",
       "      <td>GRILL MASTERS</td>\n",
       "      <td>Abohar</td>\n",
       "      <td>--</td>\n",
       "      <td>Too Few Ratings</td>\n",
       "      <td>₹ 250</td>\n",
       "      <td>Italian-American,Fast Food</td>\n",
       "      <td>12122201000053</td>\n",
       "      <td>https://www.swiggy.com/restaurants/grill-maste...</td>\n",
       "      <td>GRILL MASTERS, ADA Heights, Abohar - Hanumanga...</td>\n",
       "      <td>Menu/543530.json</td>\n",
       "    </tr>\n",
       "    <tr>\n",
       "      <th>5</th>\n",
       "      <td>158204</td>\n",
       "      <td>Sam Uncle</td>\n",
       "      <td>Abohar</td>\n",
       "      <td>3.6</td>\n",
       "      <td>20+ ratings</td>\n",
       "      <td>₹ 200</td>\n",
       "      <td>Continental</td>\n",
       "      <td>22119652000052</td>\n",
       "      <td>https://www.swiggy.com/restaurants/sam-uncle-c...</td>\n",
       "      <td>Sam Uncle, hanumangarh road near raja bajaj sh...</td>\n",
       "      <td>Menu/158204.json</td>\n",
       "    </tr>\n",
       "    <tr>\n",
       "      <th>6</th>\n",
       "      <td>156588</td>\n",
       "      <td>shere punjab veg</td>\n",
       "      <td>Abohar</td>\n",
       "      <td>4.0</td>\n",
       "      <td>100+ ratings</td>\n",
       "      <td>₹ 150</td>\n",
       "      <td>North Indian</td>\n",
       "      <td>22120652000021</td>\n",
       "      <td>https://www.swiggy.com/restaurants/shere-punja...</td>\n",
       "      <td>shere punjab veg, major surinder chowk near ve...</td>\n",
       "      <td>Menu/156588.json</td>\n",
       "    </tr>\n",
       "    <tr>\n",
       "      <th>7</th>\n",
       "      <td>244866</td>\n",
       "      <td>Shri Balaji Vaishno Dhaba</td>\n",
       "      <td>Abohar</td>\n",
       "      <td>--</td>\n",
       "      <td>Too Few Ratings</td>\n",
       "      <td>₹ 100</td>\n",
       "      <td>North Indian</td>\n",
       "      <td>22119652000389</td>\n",
       "      <td>https://www.swiggy.com/restaurants/shri-balaji...</td>\n",
       "      <td>Shri Balaji Vaishno Dhaba, St no 13,6th chowk,...</td>\n",
       "      <td>Menu/244866.json</td>\n",
       "    </tr>\n",
       "    <tr>\n",
       "      <th>8</th>\n",
       "      <td>156602</td>\n",
       "      <td>Hinglaj Kachori Bhandhar</td>\n",
       "      <td>Abohar</td>\n",
       "      <td>4.2</td>\n",
       "      <td>20+ ratings</td>\n",
       "      <td>₹ 100</td>\n",
       "      <td>Snacks,Chaat</td>\n",
       "      <td>22119652000042</td>\n",
       "      <td>https://www.swiggy.com/restaurants/hinglaj-kac...</td>\n",
       "      <td>Hinglaj Kachori Bhandhar, street no 11 circula...</td>\n",
       "      <td>Menu/156602.json</td>\n",
       "    </tr>\n",
       "    <tr>\n",
       "      <th>9</th>\n",
       "      <td>158193</td>\n",
       "      <td>yummy hub</td>\n",
       "      <td>Abohar</td>\n",
       "      <td>--</td>\n",
       "      <td>Too Few Ratings</td>\n",
       "      <td>₹ 200</td>\n",
       "      <td>Indian</td>\n",
       "      <td>22119652000045</td>\n",
       "      <td>https://www.swiggy.com/restaurants/yummy-hub-c...</td>\n",
       "      <td>yummy hub, hanumangarh road near dr naveen set...</td>\n",
       "      <td>Menu/158193.json</td>\n",
       "    </tr>\n",
       "  </tbody>\n",
       "</table>\n",
       "</div>"
      ],
      "text/plain": [
       "       id                       name    city rating     rating_count   cost  \\\n",
       "0  567335             AB FOODS POINT  Abohar     --  Too Few Ratings  ₹ 200   \n",
       "1  531342          Janta Sweet House  Abohar    4.4      50+ ratings  ₹ 200   \n",
       "2  158203          theka coffee desi  Abohar    3.8     100+ ratings  ₹ 100   \n",
       "3  187912                  Singh Hut  Abohar    3.7      20+ ratings  ₹ 250   \n",
       "4  543530              GRILL MASTERS  Abohar     --  Too Few Ratings  ₹ 250   \n",
       "5  158204                  Sam Uncle  Abohar    3.6      20+ ratings  ₹ 200   \n",
       "6  156588           shere punjab veg  Abohar    4.0     100+ ratings  ₹ 150   \n",
       "7  244866  Shri Balaji Vaishno Dhaba  Abohar     --  Too Few Ratings  ₹ 100   \n",
       "8  156602   Hinglaj Kachori Bhandhar  Abohar    4.2      20+ ratings  ₹ 100   \n",
       "9  158193                  yummy hub  Abohar     --  Too Few Ratings  ₹ 200   \n",
       "\n",
       "                      cuisine          lic_no  \\\n",
       "0            Beverages,Pizzas  22122652000138   \n",
       "1               Sweets,Bakery  12117201000112   \n",
       "2                   Beverages  22121652000190   \n",
       "3            Fast Food,Indian  22119652000167   \n",
       "4  Italian-American,Fast Food  12122201000053   \n",
       "5                 Continental  22119652000052   \n",
       "6                North Indian  22120652000021   \n",
       "7                North Indian  22119652000389   \n",
       "8                Snacks,Chaat  22119652000042   \n",
       "9                      Indian  22119652000045   \n",
       "\n",
       "                                                link  \\\n",
       "0  https://www.swiggy.com/restaurants/ab-foods-po...   \n",
       "1  https://www.swiggy.com/restaurants/janta-sweet...   \n",
       "2  https://www.swiggy.com/restaurants/theka-coffe...   \n",
       "3  https://www.swiggy.com/restaurants/singh-hut-n...   \n",
       "4  https://www.swiggy.com/restaurants/grill-maste...   \n",
       "5  https://www.swiggy.com/restaurants/sam-uncle-c...   \n",
       "6  https://www.swiggy.com/restaurants/shere-punja...   \n",
       "7  https://www.swiggy.com/restaurants/shri-balaji...   \n",
       "8  https://www.swiggy.com/restaurants/hinglaj-kac...   \n",
       "9  https://www.swiggy.com/restaurants/yummy-hub-c...   \n",
       "\n",
       "                                             address              menu  \n",
       "0  AB FOODS POINT, NEAR RISHI NARANG DENTAL CLINI...  Menu/567335.json  \n",
       "1  Janta Sweet House, Bazar No.9, Circullar Road,...  Menu/531342.json  \n",
       "2         theka coffee desi, sahtiya sadan road city  Menu/158203.json  \n",
       "3    Singh Hut, CIRCULAR ROAD NEAR NEHRU PARK ABOHAR  Menu/187912.json  \n",
       "4  GRILL MASTERS, ADA Heights, Abohar - Hanumanga...  Menu/543530.json  \n",
       "5  Sam Uncle, hanumangarh road near raja bajaj sh...  Menu/158204.json  \n",
       "6  shere punjab veg, major surinder chowk near ve...  Menu/156588.json  \n",
       "7  Shri Balaji Vaishno Dhaba, St no 13,6th chowk,...  Menu/244866.json  \n",
       "8  Hinglaj Kachori Bhandhar, street no 11 circula...  Menu/156602.json  \n",
       "9  yummy hub, hanumangarh road near dr naveen set...  Menu/158193.json  "
      ]
     },
     "execution_count": 50,
     "metadata": {},
     "output_type": "execute_result"
    }
   ],
   "source": [
    "data_df.head(10)"
   ]
  },
  {
   "cell_type": "code",
   "execution_count": 51,
   "id": "e6566fa4-4234-4239-b003-ad51bdd0dffa",
   "metadata": {},
   "outputs": [
    {
     "data": {
      "text/plain": [
       "rating_count\n",
       "Too Few Ratings    87014\n",
       "20+ ratings        21636\n",
       "100+ ratings       20548\n",
       "50+ ratings        12009\n",
       "500+ ratings        4396\n",
       "1K+ ratings         2739\n",
       "5K+ ratings           98\n",
       "10K+ ratings          15\n",
       "Name: count, dtype: int64"
      ]
     },
     "execution_count": 51,
     "metadata": {},
     "output_type": "execute_result"
    }
   ],
   "source": [
    "data_df[\"rating_count\"].value_counts()"
   ]
  },
  {
   "cell_type": "code",
   "execution_count": 52,
   "id": "448f3337-eeda-4c23-a496-8947125d5c9c",
   "metadata": {},
   "outputs": [
    {
     "name": "stdout",
     "output_type": "stream",
     "text": [
      "<class 'pandas.core.frame.DataFrame'>\n",
      "RangeIndex: 148541 entries, 0 to 148540\n",
      "Data columns (total 11 columns):\n",
      " #   Column        Non-Null Count   Dtype \n",
      "---  ------        --------------   ----- \n",
      " 0   id            148541 non-null  int64 \n",
      " 1   name          148455 non-null  object\n",
      " 2   city          148541 non-null  object\n",
      " 3   rating        148455 non-null  object\n",
      " 4   rating_count  148455 non-null  object\n",
      " 5   cost          148410 non-null  object\n",
      " 6   cuisine       148442 non-null  object\n",
      " 7   lic_no        148312 non-null  object\n",
      " 8   link          148541 non-null  object\n",
      " 9   address       148455 non-null  object\n",
      " 10  menu          148541 non-null  object\n",
      "dtypes: int64(1), object(10)\n",
      "memory usage: 12.5+ MB\n"
     ]
    }
   ],
   "source": [
    "data_df.info()"
   ]
  },
  {
   "cell_type": "code",
   "execution_count": 53,
   "id": "5433eef5-224b-47e0-a1d9-938b0edcf1ad",
   "metadata": {},
   "outputs": [
    {
     "data": {
      "text/plain": [
       "id                0\n",
       "name             86\n",
       "city              0\n",
       "rating           86\n",
       "rating_count     86\n",
       "cost            131\n",
       "cuisine          99\n",
       "lic_no          229\n",
       "link              0\n",
       "address          86\n",
       "menu              0\n",
       "dtype: int64"
      ]
     },
     "execution_count": 53,
     "metadata": {},
     "output_type": "execute_result"
    }
   ],
   "source": [
    "data_df.isnull().sum()"
   ]
  },
  {
   "cell_type": "code",
   "execution_count": 54,
   "id": "648a77c3-e2ca-4524-94c6-d7df521c8ab0",
   "metadata": {},
   "outputs": [],
   "source": [
    "cleaneddata_df = data_df.copy()"
   ]
  },
  {
   "cell_type": "code",
   "execution_count": 55,
   "id": "1ef1c42b-b84a-4c78-b242-5078fd2337ce",
   "metadata": {},
   "outputs": [],
   "source": [
    "cleaneddata_df.loc[cleaneddata_df[\"rating\"]==\"--\",'rating'] = 0"
   ]
  },
  {
   "cell_type": "code",
   "execution_count": 56,
   "id": "3d0d75eb-36ba-4558-99fc-129c3669f4f5",
   "metadata": {},
   "outputs": [],
   "source": [
    "cleaneddata_df['rating'] = cleaneddata_df['rating'].astype(float)"
   ]
  },
  {
   "cell_type": "code",
   "execution_count": 57,
   "id": "8ae463a6-4339-4f73-bb22-168ddbf56bfe",
   "metadata": {
    "scrolled": true
   },
   "outputs": [
    {
     "data": {
      "text/plain": [
       "rating_count\n",
       "100+ ratings       3.980383\n",
       "10K+ ratings       3.813333\n",
       "1K+ ratings        4.053012\n",
       "20+ ratings        3.756517\n",
       "50+ ratings        3.906120\n",
       "500+ ratings       4.037125\n",
       "5K+ ratings        4.086735\n",
       "Too Few Ratings    0.000000\n",
       "Name: rating, dtype: float64"
      ]
     },
     "execution_count": 57,
     "metadata": {},
     "output_type": "execute_result"
    }
   ],
   "source": [
    "cleaneddata_df.groupby(\"rating_count\")[\"rating\"].mean()"
   ]
  },
  {
   "cell_type": "code",
   "execution_count": 58,
   "id": "26f95163-f315-4392-ad81-468c9928d513",
   "metadata": {},
   "outputs": [],
   "source": [
    "cleaneddata_df = cleaneddata_df.dropna(subset=['cost'])"
   ]
  },
  {
   "cell_type": "code",
   "execution_count": 59,
   "id": "f0a90040-d120-4748-b7a9-fd8ade297f4e",
   "metadata": {},
   "outputs": [],
   "source": [
    "cleaneddata_df = cleaneddata_df.dropna(subset=['cuisine'])"
   ]
  },
  {
   "cell_type": "code",
   "execution_count": 60,
   "id": "a6716cab-1c54-41f3-9731-6bf93f895185",
   "metadata": {},
   "outputs": [],
   "source": [
    "cleaneddata_df = cleaneddata_df.drop(['menu','address','link','lic_no','id'],axis=1)"
   ]
  },
  {
   "cell_type": "code",
   "execution_count": 61,
   "id": "a82f46b1-8473-4b54-8c0b-694798c6f365",
   "metadata": {},
   "outputs": [
    {
     "data": {
      "text/plain": [
       "name            0\n",
       "city            0\n",
       "rating          0\n",
       "rating_count    0\n",
       "cost            0\n",
       "cuisine         0\n",
       "dtype: int64"
      ]
     },
     "execution_count": 61,
     "metadata": {},
     "output_type": "execute_result"
    }
   ],
   "source": [
    "cleaneddata_df.isnull().sum()"
   ]
  },
  {
   "cell_type": "code",
   "execution_count": 62,
   "id": "aa5bf654-8a46-471b-bafa-0ae4bf63717b",
   "metadata": {},
   "outputs": [],
   "source": [
    "# Remove non-numeric characters (like ₹, $, €, and commas) and convert to integer\n",
    "cleaneddata_df['cost'] = cleaneddata_df['cost'].str.replace(r'[^\\d]', '', regex=True).astype(int)"
   ]
  },
  {
   "cell_type": "code",
   "execution_count": 63,
   "id": "2e6f54c5-5701-4048-a66b-1add0d245a32",
   "metadata": {},
   "outputs": [
    {
     "data": {
      "text/html": [
       "<div>\n",
       "<style scoped>\n",
       "    .dataframe tbody tr th:only-of-type {\n",
       "        vertical-align: middle;\n",
       "    }\n",
       "\n",
       "    .dataframe tbody tr th {\n",
       "        vertical-align: top;\n",
       "    }\n",
       "\n",
       "    .dataframe thead th {\n",
       "        text-align: right;\n",
       "    }\n",
       "</style>\n",
       "<table border=\"1\" class=\"dataframe\">\n",
       "  <thead>\n",
       "    <tr style=\"text-align: right;\">\n",
       "      <th></th>\n",
       "      <th>name</th>\n",
       "      <th>city</th>\n",
       "      <th>rating</th>\n",
       "      <th>rating_count</th>\n",
       "      <th>cost</th>\n",
       "      <th>cuisine</th>\n",
       "    </tr>\n",
       "  </thead>\n",
       "  <tbody>\n",
       "    <tr>\n",
       "      <th>0</th>\n",
       "      <td>AB FOODS POINT</td>\n",
       "      <td>Abohar</td>\n",
       "      <td>0.0</td>\n",
       "      <td>Too Few Ratings</td>\n",
       "      <td>200</td>\n",
       "      <td>Beverages,Pizzas</td>\n",
       "    </tr>\n",
       "    <tr>\n",
       "      <th>1</th>\n",
       "      <td>Janta Sweet House</td>\n",
       "      <td>Abohar</td>\n",
       "      <td>4.4</td>\n",
       "      <td>50+ ratings</td>\n",
       "      <td>200</td>\n",
       "      <td>Sweets,Bakery</td>\n",
       "    </tr>\n",
       "    <tr>\n",
       "      <th>2</th>\n",
       "      <td>theka coffee desi</td>\n",
       "      <td>Abohar</td>\n",
       "      <td>3.8</td>\n",
       "      <td>100+ ratings</td>\n",
       "      <td>100</td>\n",
       "      <td>Beverages</td>\n",
       "    </tr>\n",
       "    <tr>\n",
       "      <th>3</th>\n",
       "      <td>Singh Hut</td>\n",
       "      <td>Abohar</td>\n",
       "      <td>3.7</td>\n",
       "      <td>20+ ratings</td>\n",
       "      <td>250</td>\n",
       "      <td>Fast Food,Indian</td>\n",
       "    </tr>\n",
       "    <tr>\n",
       "      <th>4</th>\n",
       "      <td>GRILL MASTERS</td>\n",
       "      <td>Abohar</td>\n",
       "      <td>0.0</td>\n",
       "      <td>Too Few Ratings</td>\n",
       "      <td>250</td>\n",
       "      <td>Italian-American,Fast Food</td>\n",
       "    </tr>\n",
       "    <tr>\n",
       "      <th>5</th>\n",
       "      <td>Sam Uncle</td>\n",
       "      <td>Abohar</td>\n",
       "      <td>3.6</td>\n",
       "      <td>20+ ratings</td>\n",
       "      <td>200</td>\n",
       "      <td>Continental</td>\n",
       "    </tr>\n",
       "    <tr>\n",
       "      <th>6</th>\n",
       "      <td>shere punjab veg</td>\n",
       "      <td>Abohar</td>\n",
       "      <td>4.0</td>\n",
       "      <td>100+ ratings</td>\n",
       "      <td>150</td>\n",
       "      <td>North Indian</td>\n",
       "    </tr>\n",
       "    <tr>\n",
       "      <th>7</th>\n",
       "      <td>Shri Balaji Vaishno Dhaba</td>\n",
       "      <td>Abohar</td>\n",
       "      <td>0.0</td>\n",
       "      <td>Too Few Ratings</td>\n",
       "      <td>100</td>\n",
       "      <td>North Indian</td>\n",
       "    </tr>\n",
       "    <tr>\n",
       "      <th>8</th>\n",
       "      <td>Hinglaj Kachori Bhandhar</td>\n",
       "      <td>Abohar</td>\n",
       "      <td>4.2</td>\n",
       "      <td>20+ ratings</td>\n",
       "      <td>100</td>\n",
       "      <td>Snacks,Chaat</td>\n",
       "    </tr>\n",
       "    <tr>\n",
       "      <th>9</th>\n",
       "      <td>yummy hub</td>\n",
       "      <td>Abohar</td>\n",
       "      <td>0.0</td>\n",
       "      <td>Too Few Ratings</td>\n",
       "      <td>200</td>\n",
       "      <td>Indian</td>\n",
       "    </tr>\n",
       "  </tbody>\n",
       "</table>\n",
       "</div>"
      ],
      "text/plain": [
       "                        name    city  rating     rating_count  cost  \\\n",
       "0             AB FOODS POINT  Abohar     0.0  Too Few Ratings   200   \n",
       "1          Janta Sweet House  Abohar     4.4      50+ ratings   200   \n",
       "2          theka coffee desi  Abohar     3.8     100+ ratings   100   \n",
       "3                  Singh Hut  Abohar     3.7      20+ ratings   250   \n",
       "4              GRILL MASTERS  Abohar     0.0  Too Few Ratings   250   \n",
       "5                  Sam Uncle  Abohar     3.6      20+ ratings   200   \n",
       "6           shere punjab veg  Abohar     4.0     100+ ratings   150   \n",
       "7  Shri Balaji Vaishno Dhaba  Abohar     0.0  Too Few Ratings   100   \n",
       "8   Hinglaj Kachori Bhandhar  Abohar     4.2      20+ ratings   100   \n",
       "9                  yummy hub  Abohar     0.0  Too Few Ratings   200   \n",
       "\n",
       "                      cuisine  \n",
       "0            Beverages,Pizzas  \n",
       "1               Sweets,Bakery  \n",
       "2                   Beverages  \n",
       "3            Fast Food,Indian  \n",
       "4  Italian-American,Fast Food  \n",
       "5                 Continental  \n",
       "6                North Indian  \n",
       "7                North Indian  \n",
       "8                Snacks,Chaat  \n",
       "9                      Indian  "
      ]
     },
     "execution_count": 63,
     "metadata": {},
     "output_type": "execute_result"
    }
   ],
   "source": [
    "cleaneddata_df.head(10)"
   ]
  },
  {
   "cell_type": "code",
   "execution_count": 64,
   "id": "06524994-cf6d-4bf5-94a7-5172b37c51d5",
   "metadata": {},
   "outputs": [
    {
     "name": "stdout",
     "output_type": "stream",
     "text": [
      "<class 'pandas.core.frame.DataFrame'>\n",
      "Index: 148398 entries, 0 to 148540\n",
      "Data columns (total 6 columns):\n",
      " #   Column        Non-Null Count   Dtype  \n",
      "---  ------        --------------   -----  \n",
      " 0   name          148398 non-null  object \n",
      " 1   city          148398 non-null  object \n",
      " 2   rating        148398 non-null  float64\n",
      " 3   rating_count  148398 non-null  object \n",
      " 4   cost          148398 non-null  int64  \n",
      " 5   cuisine       148398 non-null  object \n",
      "dtypes: float64(1), int64(1), object(4)\n",
      "memory usage: 7.9+ MB\n"
     ]
    }
   ],
   "source": [
    "cleaneddata_df.info()"
   ]
  },
  {
   "cell_type": "code",
   "execution_count": 65,
   "id": "a7a85aca-bb03-4e93-99b7-54ce2c7dc701",
   "metadata": {},
   "outputs": [
    {
     "data": {
      "text/plain": [
       "name\n",
       "Domino's Pizza                                     442\n",
       "Pizza Hut                                          319\n",
       "KFC                                                309\n",
       "Kwality Walls Frozen Dessert and Ice Cream Shop    300\n",
       "Baskin Robbins                                     274\n",
       "                                                  ... \n",
       "MAITRI FOODS & BEVERAGES                             1\n",
       "Cafe Bella Ciao                                      1\n",
       "GRILL ZILLA                                          1\n",
       "Singh Hut                                            1\n",
       "FOOD WORLD RESTAURANT                                1\n",
       "Name: count, Length: 112772, dtype: int64"
      ]
     },
     "execution_count": 65,
     "metadata": {},
     "output_type": "execute_result"
    }
   ],
   "source": [
    "cleaneddata_df[\"name\"].value_counts()"
   ]
  },
  {
   "cell_type": "code",
   "execution_count": 66,
   "id": "e4c1c59e-f93b-401c-af8c-31fe9d4c3212",
   "metadata": {},
   "outputs": [],
   "source": [
    "def convert_rating(value):\n",
    "    value = value.replace(' ratings', '').replace('+', '')  # Remove text\n",
    "    if 'K' in value:\n",
    "        return int(float(value.replace('K', '')) * 1000)  # Convert K to actual number\n",
    "    elif value == \"Too Few Ratings\":\n",
    "        return 0  # Replace with 0 or another meaningful value\n",
    "    return int(value)  # Convert remaining numbers"
   ]
  },
  {
   "cell_type": "code",
   "execution_count": 67,
   "id": "2e7f1a18-339a-4302-8f2f-7a7bfe9b0c77",
   "metadata": {},
   "outputs": [],
   "source": [
    "# Apply function to transform the column\n",
    "cleaneddata_df['rating_count'] = cleaneddata_df['rating_count'].apply(convert_rating)"
   ]
  },
  {
   "cell_type": "code",
   "execution_count": 68,
   "id": "0749c314-a54d-4d97-bbeb-2c31bb071154",
   "metadata": {},
   "outputs": [
    {
     "data": {
      "text/html": [
       "<div>\n",
       "<style scoped>\n",
       "    .dataframe tbody tr th:only-of-type {\n",
       "        vertical-align: middle;\n",
       "    }\n",
       "\n",
       "    .dataframe tbody tr th {\n",
       "        vertical-align: top;\n",
       "    }\n",
       "\n",
       "    .dataframe thead th {\n",
       "        text-align: right;\n",
       "    }\n",
       "</style>\n",
       "<table border=\"1\" class=\"dataframe\">\n",
       "  <thead>\n",
       "    <tr style=\"text-align: right;\">\n",
       "      <th></th>\n",
       "      <th>name</th>\n",
       "      <th>city</th>\n",
       "      <th>rating</th>\n",
       "      <th>rating_count</th>\n",
       "      <th>cost</th>\n",
       "      <th>cuisine</th>\n",
       "    </tr>\n",
       "  </thead>\n",
       "  <tbody>\n",
       "    <tr>\n",
       "      <th>0</th>\n",
       "      <td>AB FOODS POINT</td>\n",
       "      <td>Abohar</td>\n",
       "      <td>0.0</td>\n",
       "      <td>0</td>\n",
       "      <td>200</td>\n",
       "      <td>Beverages,Pizzas</td>\n",
       "    </tr>\n",
       "    <tr>\n",
       "      <th>1</th>\n",
       "      <td>Janta Sweet House</td>\n",
       "      <td>Abohar</td>\n",
       "      <td>4.4</td>\n",
       "      <td>50</td>\n",
       "      <td>200</td>\n",
       "      <td>Sweets,Bakery</td>\n",
       "    </tr>\n",
       "    <tr>\n",
       "      <th>2</th>\n",
       "      <td>theka coffee desi</td>\n",
       "      <td>Abohar</td>\n",
       "      <td>3.8</td>\n",
       "      <td>100</td>\n",
       "      <td>100</td>\n",
       "      <td>Beverages</td>\n",
       "    </tr>\n",
       "    <tr>\n",
       "      <th>3</th>\n",
       "      <td>Singh Hut</td>\n",
       "      <td>Abohar</td>\n",
       "      <td>3.7</td>\n",
       "      <td>20</td>\n",
       "      <td>250</td>\n",
       "      <td>Fast Food,Indian</td>\n",
       "    </tr>\n",
       "    <tr>\n",
       "      <th>4</th>\n",
       "      <td>GRILL MASTERS</td>\n",
       "      <td>Abohar</td>\n",
       "      <td>0.0</td>\n",
       "      <td>0</td>\n",
       "      <td>250</td>\n",
       "      <td>Italian-American,Fast Food</td>\n",
       "    </tr>\n",
       "    <tr>\n",
       "      <th>5</th>\n",
       "      <td>Sam Uncle</td>\n",
       "      <td>Abohar</td>\n",
       "      <td>3.6</td>\n",
       "      <td>20</td>\n",
       "      <td>200</td>\n",
       "      <td>Continental</td>\n",
       "    </tr>\n",
       "    <tr>\n",
       "      <th>6</th>\n",
       "      <td>shere punjab veg</td>\n",
       "      <td>Abohar</td>\n",
       "      <td>4.0</td>\n",
       "      <td>100</td>\n",
       "      <td>150</td>\n",
       "      <td>North Indian</td>\n",
       "    </tr>\n",
       "    <tr>\n",
       "      <th>7</th>\n",
       "      <td>Shri Balaji Vaishno Dhaba</td>\n",
       "      <td>Abohar</td>\n",
       "      <td>0.0</td>\n",
       "      <td>0</td>\n",
       "      <td>100</td>\n",
       "      <td>North Indian</td>\n",
       "    </tr>\n",
       "    <tr>\n",
       "      <th>8</th>\n",
       "      <td>Hinglaj Kachori Bhandhar</td>\n",
       "      <td>Abohar</td>\n",
       "      <td>4.2</td>\n",
       "      <td>20</td>\n",
       "      <td>100</td>\n",
       "      <td>Snacks,Chaat</td>\n",
       "    </tr>\n",
       "    <tr>\n",
       "      <th>9</th>\n",
       "      <td>yummy hub</td>\n",
       "      <td>Abohar</td>\n",
       "      <td>0.0</td>\n",
       "      <td>0</td>\n",
       "      <td>200</td>\n",
       "      <td>Indian</td>\n",
       "    </tr>\n",
       "  </tbody>\n",
       "</table>\n",
       "</div>"
      ],
      "text/plain": [
       "                        name    city  rating  rating_count  cost  \\\n",
       "0             AB FOODS POINT  Abohar     0.0             0   200   \n",
       "1          Janta Sweet House  Abohar     4.4            50   200   \n",
       "2          theka coffee desi  Abohar     3.8           100   100   \n",
       "3                  Singh Hut  Abohar     3.7            20   250   \n",
       "4              GRILL MASTERS  Abohar     0.0             0   250   \n",
       "5                  Sam Uncle  Abohar     3.6            20   200   \n",
       "6           shere punjab veg  Abohar     4.0           100   150   \n",
       "7  Shri Balaji Vaishno Dhaba  Abohar     0.0             0   100   \n",
       "8   Hinglaj Kachori Bhandhar  Abohar     4.2            20   100   \n",
       "9                  yummy hub  Abohar     0.0             0   200   \n",
       "\n",
       "                      cuisine  \n",
       "0            Beverages,Pizzas  \n",
       "1               Sweets,Bakery  \n",
       "2                   Beverages  \n",
       "3            Fast Food,Indian  \n",
       "4  Italian-American,Fast Food  \n",
       "5                 Continental  \n",
       "6                North Indian  \n",
       "7                North Indian  \n",
       "8                Snacks,Chaat  \n",
       "9                      Indian  "
      ]
     },
     "execution_count": 68,
     "metadata": {},
     "output_type": "execute_result"
    }
   ],
   "source": [
    "cleaneddata_df.head(10)"
   ]
  },
  {
   "cell_type": "code",
   "execution_count": 69,
   "id": "fd096f01-1548-4e35-a18f-a3a90cb6d0bc",
   "metadata": {},
   "outputs": [
    {
     "name": "stdout",
     "output_type": "stream",
     "text": [
      "148398\n",
      "148398\n"
     ]
    }
   ],
   "source": [
    "from sklearn.preprocessing import MultiLabelBinarizer\n",
    "\n",
    "print(cleaneddata_df['cuisine'].shape[0])\n",
    "\n",
    "# Convert cuisine column into a list of cuisines\n",
    "cleaneddata_df['cuisine'] = cleaneddata_df['cuisine'].str.split(',')\n",
    "\n",
    "print(cleaneddata_df['cuisine'].shape[0])"
   ]
  },
  {
   "cell_type": "code",
   "execution_count": 70,
   "id": "8308de31-ad9e-4651-b280-9f061ac96b19",
   "metadata": {},
   "outputs": [
    {
     "name": "stdout",
     "output_type": "stream",
     "text": [
      "148398\n"
     ]
    }
   ],
   "source": [
    "print(cleaneddata_df.shape[0])"
   ]
  },
  {
   "cell_type": "code",
   "execution_count": 71,
   "id": "3c1c1089-9750-443a-b6b8-487df38acede",
   "metadata": {},
   "outputs": [
    {
     "name": "stdout",
     "output_type": "stream",
     "text": [
      "Index(['name', 'city', 'rating', 'rating_count', 'cost', 'cuisine'], dtype='object')\n"
     ]
    }
   ],
   "source": [
    "print(cleaneddata_df.columns)"
   ]
  },
  {
   "cell_type": "code",
   "execution_count": 72,
   "id": "25afd29f-c183-4e2c-81ed-ec58e725e960",
   "metadata": {},
   "outputs": [],
   "source": [
    "cleaneddata_df = cleaneddata_df.reset_index(drop=True)"
   ]
  },
  {
   "cell_type": "code",
   "execution_count": 73,
   "id": "fd7e5a4f-0b94-4854-adc3-fa513ee397de",
   "metadata": {},
   "outputs": [
    {
     "data": {
      "image/png": "[encoded data removed]",
      "text/plain": [
       "<Figure size 1200x600 with 1 Axes>"
      ]
     },
     "metadata": {},
     "output_type": "display_data"
    }
   ],
   "source": [
    "import matplotlib.pyplot as plt\n",
    "plt.figure(figsize=(12, 6))\n",
    "numerical_cols = cleaneddata_df.select_dtypes(include=['number']).columns.tolist()\n",
    "cleaneddata_df[numerical_cols[:5]].boxplot()\n",
    "plt.xticks(rotation=45)\n",
    "plt.title(\"Boxplot for Outlier Detection\")\n",
    "plt.show()"
   ]
  },
  {
   "cell_type": "code",
   "execution_count": 74,
   "id": "05763c47-18fb-42d5-bdbc-51e9de5fcda1",
   "metadata": {
    "scrolled": true
   },
   "outputs": [
    {
     "data": {
      "text/html": [
       "<div>\n",
       "<style scoped>\n",
       "    .dataframe tbody tr th:only-of-type {\n",
       "        vertical-align: middle;\n",
       "    }\n",
       "\n",
       "    .dataframe tbody tr th {\n",
       "        vertical-align: top;\n",
       "    }\n",
       "\n",
       "    .dataframe thead th {\n",
       "        text-align: right;\n",
       "    }\n",
       "</style>\n",
       "<table border=\"1\" class=\"dataframe\">\n",
       "  <thead>\n",
       "    <tr style=\"text-align: right;\">\n",
       "      <th></th>\n",
       "      <th>name</th>\n",
       "      <th>city</th>\n",
       "      <th>rating</th>\n",
       "      <th>rating_count</th>\n",
       "      <th>cost</th>\n",
       "      <th>cuisine</th>\n",
       "    </tr>\n",
       "  </thead>\n",
       "  <tbody>\n",
       "    <tr>\n",
       "      <th>70718</th>\n",
       "      <td>KOHINOOR HOTEL</td>\n",
       "      <td>Hinganghat</td>\n",
       "      <td>0.0</td>\n",
       "      <td>0</td>\n",
       "      <td>300350</td>\n",
       "      <td>[North Indian, Chinese]</td>\n",
       "    </tr>\n",
       "  </tbody>\n",
       "</table>\n",
       "</div>"
      ],
      "text/plain": [
       "                 name        city  rating  rating_count    cost  \\\n",
       "70718  KOHINOOR HOTEL  Hinganghat     0.0             0  300350   \n",
       "\n",
       "                       cuisine  \n",
       "70718  [North Indian, Chinese]  "
      ]
     },
     "execution_count": 74,
     "metadata": {},
     "output_type": "execute_result"
    }
   ],
   "source": [
    "cleaneddata_df.loc[cleaneddata_df[\"cost\"]>25000,:]"
   ]
  },
  {
   "cell_type": "code",
   "execution_count": 75,
   "id": "624f42fe-8d6a-439d-beb5-93f628c587cb",
   "metadata": {},
   "outputs": [],
   "source": [
    "cleaneddata_df = cleaneddata_df[cleaneddata_df[\"cost\"] <= 25000].reset_index(drop=True)"
   ]
  },
  {
   "cell_type": "code",
   "execution_count": 76,
   "id": "1598173c-65c2-4815-9769-b5f42d99f3a4",
   "metadata": {},
   "outputs": [
    {
     "data": {
      "image/png": "[encoded data removed]",
      "text/plain": [
       "<Figure size 1200x600 with 1 Axes>"
      ]
     },
     "metadata": {},
     "output_type": "display_data"
    }
   ],
   "source": [
    "plt.figure(figsize=(12, 6))\n",
    "numerical_cols = cleaneddata_df.select_dtypes(include=['number']).columns.tolist()\n",
    "cleaneddata_df[numerical_cols[:3]].boxplot()\n",
    "plt.xticks(rotation=45)\n",
    "plt.title(\"Boxplot for Outlier Detection\")\n",
    "plt.show()"
   ]
  },
  {
   "cell_type": "code",
   "execution_count": 77,
   "id": "5c903cc4-390b-4e1d-b43b-8a0ebf522193",
   "metadata": {
    "scrolled": true
   },
   "outputs": [
    {
     "data": {
      "image/png": "[encoded data removed]",
      "text/plain": [
       "<Figure size 1200x600 with 1 Axes>"
      ]
     },
     "metadata": {},
     "output_type": "display_data"
    }
   ],
   "source": [
    "plt.figure(figsize=(12, 6))\n",
    "cleaneddata_df[[\"rating\"]].boxplot()\n",
    "plt.title(\"Boxplot for Outlier Detection\")\n",
    "plt.show()"
   ]
  },
  {
   "cell_type": "code",
   "execution_count": 78,
   "id": "20065235-cb06-46cc-8097-3a434871dc3b",
   "metadata": {},
   "outputs": [],
   "source": [
    "cleaneddata_df.to_csv(r\"data\\cleaned_data.csv\")"
   ]
  },
  {
   "cell_type": "code",
   "execution_count": 79,
   "id": "0370e849-360b-4124-8746-b042131e1fd6",
   "metadata": {},
   "outputs": [
    {
     "name": "stdout",
     "output_type": "stream",
     "text": [
      "(148397, 127)\n"
     ]
    }
   ],
   "source": [
    "# One-hot encoding the cuisine column\n",
    "mlb = MultiLabelBinarizer()\n",
    "cuisine_encoded = pd.DataFrame(mlb.fit_transform(cleaneddata_df['cuisine']), columns=mlb.classes_)\n",
    "\n",
    "print(cuisine_encoded.shape)  # Transformed DataFrame"
   ]
  },
  {
   "cell_type": "code",
   "execution_count": 80,
   "id": "13c1821a-2532-42dc-a3ad-fc1b953de521",
   "metadata": {},
   "outputs": [
    {
     "name": "stdout",
     "output_type": "stream",
     "text": [
      "                            name      city  rating  rating_count  cost  \\\n",
      "0                 AB FOODS POINT    Abohar     0.0             0   200   \n",
      "1              Janta Sweet House    Abohar     4.4            50   200   \n",
      "2              theka coffee desi    Abohar     3.8           100   100   \n",
      "3                      Singh Hut    Abohar     3.7            20   250   \n",
      "4                  GRILL MASTERS    Abohar     0.0             0   250   \n",
      "...                          ...       ...     ...           ...   ...   \n",
      "148392          The Food Delight  Yavatmal     0.0             0   200   \n",
      "148393  MAITRI FOODS & BEVERAGES  Yavatmal     0.0             0   300   \n",
      "148394           Cafe Bella Ciao  Yavatmal     0.0             0   300   \n",
      "148395               GRILL ZILLA  Yavatmal     0.0             0   250   \n",
      "148396            Lazeez kitchen  Yavatmal     0.0             0   200   \n",
      "\n",
      "        8:15 To 11:30 Pm  Afghani  African  American  Andhra  ...  Thai  \\\n",
      "0                      0        0        0         0       0  ...     0   \n",
      "1                      0        0        0         0       0  ...     0   \n",
      "2                      0        0        0         0       0  ...     0   \n",
      "3                      0        0        0         0       0  ...     0   \n",
      "4                      0        0        0         0       0  ...     0   \n",
      "...                  ...      ...      ...       ...     ...  ...   ...   \n",
      "148392                 0        0        0         0       0  ...     0   \n",
      "148393                 0        0        0         0       0  ...     0   \n",
      "148394                 0        0        0         0       0  ...     0   \n",
      "148395                 0        0        0         0       0  ...     0   \n",
      "148396                 0        0        0         0       0  ...     0   \n",
      "\n",
      "        Thalis  Tibetan  Tribal  Turkish  Use Code JUMBO30 to avail  \\\n",
      "0            0        0       0        0                          0   \n",
      "1            0        0       0        0                          0   \n",
      "2            0        0       0        0                          0   \n",
      "3            0        0       0        0                          0   \n",
      "4            0        0       0        0                          0   \n",
      "...        ...      ...     ...      ...                        ...   \n",
      "148392       0        0       0        0                          0   \n",
      "148393       0        0       0        0                          0   \n",
      "148394       0        0       0        0                          0   \n",
      "148395       0        0       0        0                          0   \n",
      "148396       0        0       0        0                          0   \n",
      "\n",
      "        Use code XPRESS121 to avail.  Vietnamese  Waffle  indian  \n",
      "0                                  0           0       0       0  \n",
      "1                                  0           0       0       0  \n",
      "2                                  0           0       0       0  \n",
      "3                                  0           0       0       0  \n",
      "4                                  0           0       0       0  \n",
      "...                              ...         ...     ...     ...  \n",
      "148392                             0           0       0       0  \n",
      "148393                             0           0       0       0  \n",
      "148394                             0           0       0       0  \n",
      "148395                             0           0       0       0  \n",
      "148396                             0           0       0       0  \n",
      "\n",
      "[148397 rows x 132 columns]\n"
     ]
    }
   ],
   "source": [
    "cuisine_encoded = cuisine_encoded.reset_index(drop=True)\n",
    "\n",
    "encoded_df = cleaneddata_df.copy()\n",
    "\n",
    "# Merge with original DataFrame\n",
    "encoded_df = encoded_df.join(cuisine_encoded).drop(columns=['cuisine'])\n",
    "\n",
    "print(encoded_df)"
   ]
  },
  {
   "cell_type": "code",
   "execution_count": 81,
   "id": "beaf4140-7591-4fae-8a72-c108aad63d08",
   "metadata": {},
   "outputs": [
    {
     "data": {
      "text/plain": [
       "name                            0\n",
       "city                            0\n",
       "rating                          0\n",
       "rating_count                    0\n",
       "cost                            0\n",
       "                               ..\n",
       "Use Code JUMBO30 to avail       0\n",
       "Use code XPRESS121 to avail.    0\n",
       "Vietnamese                      0\n",
       "Waffle                          0\n",
       "indian                          0\n",
       "Length: 132, dtype: int64"
      ]
     },
     "execution_count": 81,
     "metadata": {},
     "output_type": "execute_result"
    }
   ],
   "source": [
    "encoded_df.isnull().sum()"
   ]
  },
  {
   "cell_type": "code",
   "execution_count": 82,
   "id": "f3e76a15-4deb-4171-8ebe-bf910e48b688",
   "metadata": {},
   "outputs": [
    {
     "data": {
      "text/plain": [
       "['name',\n",
       " 'city',\n",
       " 'rating',\n",
       " 'rating_count',\n",
       " 'cost',\n",
       " '8:15 To 11:30 Pm',\n",
       " 'Afghani',\n",
       " 'African',\n",
       " 'American',\n",
       " 'Andhra',\n",
       " 'Arabian',\n",
       " 'Asian',\n",
       " 'Assamese',\n",
       " 'Attractive Combos Available',\n",
       " 'Australian',\n",
       " 'Awadhi',\n",
       " 'BEVERAGE',\n",
       " 'Bakery',\n",
       " 'Bakery products',\n",
       " 'Bangladeshi',\n",
       " 'Barbecue',\n",
       " 'Bengali',\n",
       " 'Beverages',\n",
       " 'Bhutanese',\n",
       " 'Bihari',\n",
       " 'Biryani',\n",
       " 'Biryani - Shivaji Military Hotel',\n",
       " 'Bowl Company',\n",
       " 'British',\n",
       " 'Burgers',\n",
       " 'Burmese',\n",
       " 'Cafe',\n",
       " 'Chaat',\n",
       " 'Chettinad',\n",
       " 'Chinese',\n",
       " 'Coastal',\n",
       " 'Code valid on bill over Rs.99',\n",
       " 'Combo',\n",
       " 'Continental',\n",
       " 'Default',\n",
       " 'Desserts',\n",
       " 'Discount offer from Garden Cafe Express Kankurgachi',\n",
       " 'European',\n",
       " 'Fast Food',\n",
       " 'Free Delivery ! Limited Stocks!',\n",
       " 'French',\n",
       " 'German',\n",
       " 'Goan',\n",
       " 'Greek',\n",
       " 'Grill',\n",
       " 'Grocery products',\n",
       " 'Gujarati',\n",
       " 'Haleem',\n",
       " 'Healthy Food',\n",
       " 'Home Food',\n",
       " 'Hyderabadi',\n",
       " 'Ice Cream',\n",
       " 'Ice Cream Cakes',\n",
       " 'Indian',\n",
       " 'Indonesian',\n",
       " 'Italian',\n",
       " 'Italian-American',\n",
       " 'Jain',\n",
       " 'Japanese',\n",
       " 'Juices',\n",
       " 'Kashmiri',\n",
       " 'Kebabs',\n",
       " 'Kerala',\n",
       " 'Keto',\n",
       " 'Khasi',\n",
       " 'Konkan',\n",
       " 'Korean',\n",
       " 'Lebanese',\n",
       " 'Lucknowi',\n",
       " 'MAX 2 Combos per Order!',\n",
       " 'Maharashtrian',\n",
       " 'Malaysian',\n",
       " 'Malwani',\n",
       " 'Mangalorean',\n",
       " 'Meat',\n",
       " 'Mediterranean',\n",
       " 'Mexican',\n",
       " 'Middle Eastern',\n",
       " 'Mongolian',\n",
       " 'Mughlai',\n",
       " 'Naga',\n",
       " 'Navratri Special',\n",
       " 'Nepalese',\n",
       " 'North Eastern',\n",
       " 'North Indian',\n",
       " 'Oriental',\n",
       " 'Oriya',\n",
       " 'Paan',\n",
       " 'Pan-Asian',\n",
       " 'Parsi',\n",
       " 'Pastas',\n",
       " 'Persian',\n",
       " 'Pizzas',\n",
       " 'Popular Brand Store',\n",
       " 'Portuguese',\n",
       " 'Punjabi',\n",
       " 'Rajasthani',\n",
       " 'Rayalaseema',\n",
       " 'SVANidhi Street Food Vendor',\n",
       " 'Salads',\n",
       " 'Seafood',\n",
       " 'Sindhi',\n",
       " 'Singaporean',\n",
       " 'Snacks',\n",
       " 'South American',\n",
       " 'South Indian',\n",
       " 'Spanish',\n",
       " 'Special Discount from (Hotel Swagath)',\n",
       " 'Sri Lankan',\n",
       " 'Steakhouse',\n",
       " 'Street Food',\n",
       " 'Sushi',\n",
       " 'Sweets',\n",
       " 'Tandoor',\n",
       " 'Tandoor ',\n",
       " 'Telangana',\n",
       " 'Tex-Mex',\n",
       " 'Thai',\n",
       " 'Thalis',\n",
       " 'Tibetan',\n",
       " 'Tribal',\n",
       " 'Turkish',\n",
       " 'Use Code JUMBO30 to avail',\n",
       " 'Use code XPRESS121 to avail.',\n",
       " 'Vietnamese',\n",
       " 'Waffle',\n",
       " 'indian']"
      ]
     },
     "execution_count": 82,
     "metadata": {},
     "output_type": "execute_result"
    }
   ],
   "source": [
    "encoded_df.columns.to_list()"
   ]
  },
  {
   "cell_type": "code",
   "execution_count": 83,
   "id": "599716da-2e7c-4271-ad85-5d27020a2ab2",
   "metadata": {},
   "outputs": [],
   "source": [
    "encoded_df = encoded_df.drop(['8:15 To 11:30 Pm', 'Attractive Combos Available','Code valid on bill over Rs.99','Discount offer from Garden Cafe Express Kankurgachi','Free Delivery ! Limited Stocks!','MAX 2 Combos per Order!','Popular Brand Store','Special Discount from (Hotel Swagath)','Use Code JUMBO30 to avail','Use code XPRESS121 to avail.'],axis=1)"
   ]
  },
  {
   "cell_type": "code",
   "execution_count": 84,
   "id": "5b547ea0-1025-4d32-ad54-3f485842d4e7",
   "metadata": {},
   "outputs": [
    {
     "name": "stdout",
     "output_type": "stream",
     "text": [
      "<class 'pandas.core.frame.DataFrame'>\n",
      "RangeIndex: 148397 entries, 0 to 148396\n",
      "Columns: 122 entries, name to indian\n",
      "dtypes: float64(1), int64(119), object(2)\n",
      "memory usage: 138.1+ MB\n",
      "None\n",
      "              rating   rating_count           cost        Afghani  \\\n",
      "count  148397.000000  148397.000000  148397.000000  148397.000000   \n",
      "mean        1.611941      58.383323     285.583213       0.000930   \n",
      "std         1.940888     225.205113     167.609997       0.030481   \n",
      "min         0.000000       0.000000       1.000000       0.000000   \n",
      "25%         0.000000       0.000000     200.000000       0.000000   \n",
      "50%         0.000000       0.000000     250.000000       0.000000   \n",
      "75%         3.800000      50.000000     300.000000       0.000000   \n",
      "max         5.000000   10000.000000    8000.000000       1.000000   \n",
      "\n",
      "             African       American         Andhra        Arabian  \\\n",
      "count  148397.000000  148397.000000  148397.000000  148397.000000   \n",
      "mean        0.000094       0.025674       0.004124       0.016604   \n",
      "std         0.009713       0.158162       0.064087       0.127783   \n",
      "min         0.000000       0.000000       0.000000       0.000000   \n",
      "25%         0.000000       0.000000       0.000000       0.000000   \n",
      "50%         0.000000       0.000000       0.000000       0.000000   \n",
      "75%         0.000000       0.000000       0.000000       0.000000   \n",
      "max         1.000000       1.000000       1.000000       1.000000   \n",
      "\n",
      "               Asian       Assamese  ...      Telangana        Tex-Mex  \\\n",
      "count  148397.000000  148397.000000  ...  148397.000000  148397.000000   \n",
      "mean        0.008464       0.000458  ...       0.000040       0.000094   \n",
      "std         0.091609       0.021401  ...       0.006359       0.009713   \n",
      "min         0.000000       0.000000  ...       0.000000       0.000000   \n",
      "25%         0.000000       0.000000  ...       0.000000       0.000000   \n",
      "50%         0.000000       0.000000  ...       0.000000       0.000000   \n",
      "75%         0.000000       0.000000  ...       0.000000       0.000000   \n",
      "max         1.000000       1.000000  ...       1.000000       1.000000   \n",
      "\n",
      "                Thai         Thalis        Tibetan         Tribal  \\\n",
      "count  148397.000000  148397.000000  148397.000000  148397.000000   \n",
      "mean        0.004387       0.012392       0.003976       0.000027   \n",
      "std         0.066088       0.110630       0.062929       0.005192   \n",
      "min         0.000000       0.000000       0.000000       0.000000   \n",
      "25%         0.000000       0.000000       0.000000       0.000000   \n",
      "50%         0.000000       0.000000       0.000000       0.000000   \n",
      "75%         0.000000       0.000000       0.000000       0.000000   \n",
      "max         1.000000       1.000000       1.000000       1.000000   \n",
      "\n",
      "             Turkish     Vietnamese         Waffle         indian  \n",
      "count  148397.000000  148397.000000  148397.000000  148397.000000  \n",
      "mean        0.000350       0.000081       0.001914       0.000007  \n",
      "std         0.018716       0.008992       0.043705       0.002596  \n",
      "min         0.000000       0.000000       0.000000       0.000000  \n",
      "25%         0.000000       0.000000       0.000000       0.000000  \n",
      "50%         0.000000       0.000000       0.000000       0.000000  \n",
      "75%         0.000000       0.000000       0.000000       0.000000  \n",
      "max         1.000000       1.000000       1.000000       1.000000  \n",
      "\n",
      "[8 rows x 120 columns]\n",
      "name            0\n",
      "city            0\n",
      "rating          0\n",
      "rating_count    0\n",
      "cost            0\n",
      "               ..\n",
      "Tribal          0\n",
      "Turkish         0\n",
      "Vietnamese      0\n",
      "Waffle          0\n",
      "indian          0\n",
      "Length: 122, dtype: int64\n"
     ]
    }
   ],
   "source": [
    "print(encoded_df.info())  # Data types, non-null values\n",
    "print(encoded_df.describe())  # Summary statistics\n",
    "print(encoded_df.isnull().sum())  # Check missing values"
   ]
  },
  {
   "cell_type": "code",
   "execution_count": 85,
   "id": "91e41d47-8541-4056-a55a-a34a3bad6076",
   "metadata": {},
   "outputs": [
    {
     "data": {
      "text/plain": [
       "112771"
      ]
     },
     "execution_count": 85,
     "metadata": {},
     "output_type": "execute_result"
    }
   ],
   "source": [
    "len(encoded_df[\"name\"].value_counts())"
   ]
  },
  {
   "cell_type": "code",
   "execution_count": 86,
   "id": "d0e41121-6a09-4b65-a222-2ce312695d98",
   "metadata": {},
   "outputs": [
    {
     "data": {
      "text/plain": [
       "821"
      ]
     },
     "execution_count": 86,
     "metadata": {},
     "output_type": "execute_result"
    }
   ],
   "source": [
    "len(encoded_df[\"city\"].value_counts())"
   ]
  },
  {
   "cell_type": "code",
   "execution_count": 87,
   "id": "66e414c3-fa75-4e93-a818-e79d781dd7c7",
   "metadata": {},
   "outputs": [],
   "source": [
    "#cleaneddata_df = pd.get_dummies(cleaneddata_df, columns=['city'], drop_first=True)"
   ]
  },
  {
   "cell_type": "code",
   "execution_count": 88,
   "id": "96674a91-3a04-4cfe-b70f-440d51bd15df",
   "metadata": {},
   "outputs": [],
   "source": [
    "encoded_df = encoded_df.drop(columns=['name','city'])  # Drop restaurant name, city"
   ]
  },
  {
   "cell_type": "code",
   "execution_count": 89,
   "id": "a9c6d137-7749-4160-bc2c-812f9a241d02",
   "metadata": {},
   "outputs": [],
   "source": [
    "# from sklearn.decomposition import PCA\n",
    "\n",
    "# pca = PCA(n_components=50)  # Reduce to 50 features\n",
    "# pca.fit(features)  \n",
    "# print(sum(pca.explained_variance_ratio_))  # Check % variance retained"
   ]
  },
  {
   "cell_type": "code",
   "execution_count": 90,
   "id": "c4b4bc5c-65d4-4776-b3b9-313ccbb7057c",
   "metadata": {},
   "outputs": [
    {
     "name": "stdout",
     "output_type": "stream",
     "text": [
      "        rating  rating_count  cost  Afghani  African  American  Andhra  \\\n",
      "0          0.0             0   200        0        0         0       0   \n",
      "1          4.4            50   200        0        0         0       0   \n",
      "2          3.8           100   100        0        0         0       0   \n",
      "3          3.7            20   250        0        0         0       0   \n",
      "4          0.0             0   250        0        0         0       0   \n",
      "...        ...           ...   ...      ...      ...       ...     ...   \n",
      "148392     0.0             0   200        0        0         0       0   \n",
      "148393     0.0             0   300        0        0         0       0   \n",
      "148394     0.0             0   300        0        0         0       0   \n",
      "148395     0.0             0   250        0        0         0       0   \n",
      "148396     0.0             0   200        0        0         0       0   \n",
      "\n",
      "        Arabian  Asian  Assamese  ...  Telangana  Tex-Mex  Thai  Thalis  \\\n",
      "0             0      0         0  ...          0        0     0       0   \n",
      "1             0      0         0  ...          0        0     0       0   \n",
      "2             0      0         0  ...          0        0     0       0   \n",
      "3             0      0         0  ...          0        0     0       0   \n",
      "4             0      0         0  ...          0        0     0       0   \n",
      "...         ...    ...       ...  ...        ...      ...   ...     ...   \n",
      "148392        0      0         0  ...          0        0     0       0   \n",
      "148393        0      0         0  ...          0        0     0       0   \n",
      "148394        0      0         0  ...          0        0     0       0   \n",
      "148395        0      0         0  ...          0        0     0       0   \n",
      "148396        0      0         0  ...          0        0     0       0   \n",
      "\n",
      "        Tibetan  Tribal  Turkish  Vietnamese  Waffle  indian  \n",
      "0             0       0        0           0       0       0  \n",
      "1             0       0        0           0       0       0  \n",
      "2             0       0        0           0       0       0  \n",
      "3             0       0        0           0       0       0  \n",
      "4             0       0        0           0       0       0  \n",
      "...         ...     ...      ...         ...     ...     ...  \n",
      "148392        0       0        0           0       0       0  \n",
      "148393        0       0        0           0       0       0  \n",
      "148394        0       0        0           0       0       0  \n",
      "148395        0       0        0           0       0       0  \n",
      "148396        0       0        0           0       0       0  \n",
      "\n",
      "[148397 rows x 120 columns]\n"
     ]
    }
   ],
   "source": [
    "print(encoded_df)"
   ]
  },
  {
   "cell_type": "code",
   "execution_count": 91,
   "id": "e14b8d9f-b5bd-4d94-a586-6b55169d59dc",
   "metadata": {},
   "outputs": [
    {
     "name": "stdout",
     "output_type": "stream",
     "text": [
      "        rating  rating_count      cost  Afghani  African  American  Andhra  \\\n",
      "0         0.00         0.000  0.024878        0        0         0       0   \n",
      "1         0.88         0.005  0.024878        0        0         0       0   \n",
      "2         0.76         0.010  0.012377        0        0         0       0   \n",
      "3         0.74         0.002  0.031129        0        0         0       0   \n",
      "4         0.00         0.000  0.031129        0        0         0       0   \n",
      "...        ...           ...       ...      ...      ...       ...     ...   \n",
      "148392    0.00         0.000  0.024878        0        0         0       0   \n",
      "148393    0.00         0.000  0.037380        0        0         0       0   \n",
      "148394    0.00         0.000  0.037380        0        0         0       0   \n",
      "148395    0.00         0.000  0.031129        0        0         0       0   \n",
      "148396    0.00         0.000  0.024878        0        0         0       0   \n",
      "\n",
      "        Arabian  Asian  Assamese  ...  Telangana  Tex-Mex  Thai  Thalis  \\\n",
      "0             0      0         0  ...          0        0     0       0   \n",
      "1             0      0         0  ...          0        0     0       0   \n",
      "2             0      0         0  ...          0        0     0       0   \n",
      "3             0      0         0  ...          0        0     0       0   \n",
      "4             0      0         0  ...          0        0     0       0   \n",
      "...         ...    ...       ...  ...        ...      ...   ...     ...   \n",
      "148392        0      0         0  ...          0        0     0       0   \n",
      "148393        0      0         0  ...          0        0     0       0   \n",
      "148394        0      0         0  ...          0        0     0       0   \n",
      "148395        0      0         0  ...          0        0     0       0   \n",
      "148396        0      0         0  ...          0        0     0       0   \n",
      "\n",
      "        Tibetan  Tribal  Turkish  Vietnamese  Waffle  indian  \n",
      "0             0       0        0           0       0       0  \n",
      "1             0       0        0           0       0       0  \n",
      "2             0       0        0           0       0       0  \n",
      "3             0       0        0           0       0       0  \n",
      "4             0       0        0           0       0       0  \n",
      "...         ...     ...      ...         ...     ...     ...  \n",
      "148392        0       0        0           0       0       0  \n",
      "148393        0       0        0           0       0       0  \n",
      "148394        0       0        0           0       0       0  \n",
      "148395        0       0        0           0       0       0  \n",
      "148396        0       0        0           0       0       0  \n",
      "\n",
      "[148397 rows x 120 columns]\n"
     ]
    }
   ],
   "source": [
    "from sklearn.preprocessing import MinMaxScaler\n",
    "\n",
    "# Normalize cost, rating, and rating count\n",
    "scaler = MinMaxScaler()\n",
    "encoded_df[[\"cost\", \"rating\", \"rating_count\"]] = scaler.fit_transform(encoded_df[[\"cost\", \"rating\", \"rating_count\"]])\n",
    "\n",
    "print(encoded_df)"
   ]
  },
  {
   "cell_type": "code",
   "execution_count": 95,
   "id": "28fe64a5-88da-41ec-838d-e19bb8be21d8",
   "metadata": {},
   "outputs": [
    {
     "name": "stdout",
     "output_type": "stream",
     "text": [
      "\n",
      "🎯 **Selected Restaurant:**\n",
      "name            CHAWLA SAAB THE JUICE MASTER\n",
      "city                                  Abohar\n",
      "rating                                   0.0\n",
      "rating_count                               0\n",
      "cost                                     300\n",
      "cuisine                  [Juices, Beverages]\n",
      "Name: 10, dtype: object\n",
      "\n",
      "⭐ **Recommended Restaurants to Try:**\n",
      "                                        name                   city  rating  \\\n",
      "17705        Sree Ganesha Fruit Juice Centre  Frazer Town,Bangalore     0.0   \n",
      "82061   ANAND SHREE FRUIT JUICE & RESTAURANT     Vijay Nagar,Indore     0.0   \n",
      "9489                                90's Kid  Koramangala,Bangalore     0.0   \n",
      "143770                         CHEERS BRISTO                 Ujjain     0.0   \n",
      "13729                        Prezzed Juicery  Indiranagar,Bangalore     0.0   \n",
      "\n",
      "        rating_count  cost              cuisine  \n",
      "17705              0   300  [Beverages, Juices]  \n",
      "82061              0   300  [Juices, Beverages]  \n",
      "9489               0   300  [Beverages, Juices]  \n",
      "143770             0   300  [Beverages, Juices]  \n",
      "13729              0   300  [Juices, Beverages]  \n"
     ]
    }
   ],
   "source": [
    "# from sklearn.neighbors import NearestNeighbors\n",
    "# from scipy.sparse import csr_matrix\n",
    "\n",
    "# # Convert to sparse format to save memory\n",
    "# sparse_matrix = csr_matrix(encoded_df.values)\n",
    "\n",
    "# # Use NearestNeighbors (more memory efficient than full cosine similarity)\n",
    "# nn = NearestNeighbors(n_neighbors=6, metric='cosine', algorithm='brute')\n",
    "# nn.fit(sparse_matrix)\n",
    "\n",
    "# def get_similar_restaurants(index, top_n=5):\n",
    "#     \"\"\"\n",
    "#     Get top N most similar restaurants using Nearest Neighbors.\n",
    "#     \"\"\"\n",
    "#     # Ensure input is 2D\n",
    "#     distances, indices = nn.kneighbors(sparse_matrix[index].reshape(1, -1))\n",
    "    \n",
    "#     # Get recommended restaurants (excluding itself)\n",
    "#     top_indices = indices[0][1:top_n+1]\n",
    "    \n",
    "#     print(\"\\n🎯 **Selected Restaurant:**\")\n",
    "#     print(cleaneddata_df.iloc[index])\n",
    "\n",
    "#     print(\"\\n⭐ **Recommended Restaurants to Try:**\")\n",
    "#     return cleaneddata_df.iloc[top_indices]\n",
    "\n",
    "# # Example: Get 5 most similar restaurants for restaurant at index 10\n",
    "# recommended_restaurants = get_similar_restaurants(10, top_n=5)\n",
    "# print(recommended_restaurants)\n"
   ]
  },
  {
   "cell_type": "code",
   "execution_count": 96,
   "id": "e642702e-daad-4c9e-bd1b-8a1169194744",
   "metadata": {},
   "outputs": [],
   "source": [
    "encoded_df.to_csv(r\"data\\encoded_data.csv\")"
   ]
  },
  {
   "cell_type": "code",
   "execution_count": null,
   "id": "a489c0d0-2328-4e3b-99e7-aec64558c7f8",
   "metadata": {},
   "outputs": [],
   "source": []
  }
 ],
 "metadata": {
  "kernelspec": {
   "display_name": "Python 3 (ipykernel)",
   "language": "python",
   "name": "python3"
  },
  "language_info": {
   "codemirror_mode": {
    "name": "ipython",
    "version": 3
   },
   "file_extension": ".py",
   "mimetype": "text/x-python",
   "name": "python",
   "nbconvert_exporter": "python",
   "pygments_lexer": "ipython3",
   "version": "3.12.5"
  }
 },
 "nbformat": 4,
 "nbformat_minor": 5
}
